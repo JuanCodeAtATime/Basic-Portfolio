{
  "nbformat": 4,
  "nbformat_minor": 0,
  "metadata": {
    "colab": {
      "provenance": [],
      "authorship_tag": "ABX9TyMQqrVvRwm37YzrMhzHm0Vg",
      "include_colab_link": true
    },
    "kernelspec": {
      "name": "python3",
      "display_name": "Python 3"
    },
    "language_info": {
      "name": "python"
    }
  },
  "cells": [
    {
      "cell_type": "markdown",
      "metadata": {
        "id": "view-in-github",
        "colab_type": "text"
      },
      "source": [
        "<a href=\"https://colab.research.google.com/github/JuanCodeAtATime/Basic-Portfolio/blob/master/ds_finalproject.ipynb\" target=\"_parent\"><img src=\"https://colab.research.google.com/assets/colab-badge.svg\" alt=\"Open In Colab\"/></a>"
      ]
    },
    {
      "cell_type": "code",
      "execution_count": 15,
      "metadata": {
        "colab": {
          "base_uri": "https://localhost:8080/"
        },
        "id": "Ivg7N8lOspfw",
        "outputId": "86e92291-d4d9-4d10-d2d0-bbca61589cef"
      },
      "outputs": [
        {
          "output_type": "stream",
          "name": "stdout",
          "text": [
            "Id               1460\n",
            "MSSubClass         15\n",
            "MSZoning            5\n",
            "LotFrontage       110\n",
            "LotArea          1073\n",
            "                 ... \n",
            "MoSold             12\n",
            "YrSold              5\n",
            "SaleType            9\n",
            "SaleCondition       6\n",
            "SalePrice         663\n",
            "Length: 81, dtype: int64\n",
            "Numerical Variables:\n",
            "   Id  MSSubClass  LotFrontage  LotArea  OverallQual  OverallCond  YearBuilt  \\\n",
            "0   1          60         65.0     8450            7            5       2003   \n",
            "1   2          20         80.0     9600            6            8       1976   \n",
            "2   3          60         68.0    11250            7            5       2001   \n",
            "3   4          70         60.0     9550            7            5       1915   \n",
            "4   5          60         84.0    14260            8            5       2000   \n",
            "\n",
            "   YearRemodAdd  MasVnrArea  BsmtFinSF1  ...  WoodDeckSF  OpenPorchSF  \\\n",
            "0          2003       196.0         706  ...           0           61   \n",
            "1          1976         0.0         978  ...         298            0   \n",
            "2          2002       162.0         486  ...           0           42   \n",
            "3          1970         0.0         216  ...           0           35   \n",
            "4          2000       350.0         655  ...         192           84   \n",
            "\n",
            "   EnclosedPorch  3SsnPorch  ScreenPorch  PoolArea  MiscVal  MoSold  YrSold  \\\n",
            "0              0          0            0         0        0       2    2008   \n",
            "1              0          0            0         0        0       5    2007   \n",
            "2              0          0            0         0        0       9    2008   \n",
            "3            272          0            0         0        0       2    2006   \n",
            "4              0          0            0         0        0      12    2008   \n",
            "\n",
            "   SalePrice  \n",
            "0     208500  \n",
            "1     181500  \n",
            "2     223500  \n",
            "3     140000  \n",
            "4     250000  \n",
            "\n",
            "[5 rows x 38 columns]\n",
            "\n",
            "Categorical Variables:\n",
            "  MSZoning Street Alley LotShape LandContour Utilities LotConfig LandSlope  \\\n",
            "0       RL   Pave   NaN      Reg         Lvl    AllPub    Inside       Gtl   \n",
            "1       RL   Pave   NaN      Reg         Lvl    AllPub       FR2       Gtl   \n",
            "2       RL   Pave   NaN      IR1         Lvl    AllPub    Inside       Gtl   \n",
            "3       RL   Pave   NaN      IR1         Lvl    AllPub    Corner       Gtl   \n",
            "4       RL   Pave   NaN      IR1         Lvl    AllPub       FR2       Gtl   \n",
            "\n",
            "  Neighborhood Condition1  ... GarageType GarageFinish GarageQual GarageCond  \\\n",
            "0      CollgCr       Norm  ...     Attchd          RFn         TA         TA   \n",
            "1      Veenker      Feedr  ...     Attchd          RFn         TA         TA   \n",
            "2      CollgCr       Norm  ...     Attchd          RFn         TA         TA   \n",
            "3      Crawfor       Norm  ...     Detchd          Unf         TA         TA   \n",
            "4      NoRidge       Norm  ...     Attchd          RFn         TA         TA   \n",
            "\n",
            "  PavedDrive PoolQC Fence MiscFeature SaleType SaleCondition  \n",
            "0          Y    NaN   NaN         NaN       WD        Normal  \n",
            "1          Y    NaN   NaN         NaN       WD        Normal  \n",
            "2          Y    NaN   NaN         NaN       WD        Normal  \n",
            "3          Y    NaN   NaN         NaN       WD       Abnorml  \n",
            "4          Y    NaN   NaN         NaN       WD        Normal  \n",
            "\n",
            "[5 rows x 43 columns]\n"
          ]
        }
      ],
      "source": [
        "#FEATURE ENGINEERING COURSE END PROJECT by Juan Rivera [Nov 2023]\n",
        "## TASKS TO PERFORM\n",
        "\n",
        "# 1) Import the necessary libraries\n",
        "import numpy as np\n",
        "import pandas as pd\n",
        "import matplotlib.pyplot as plt\n",
        "import seaborn as sns\n",
        "\n",
        "#  2) Read the dataset\n",
        "##   2.1 Understand the dataset\n",
        "\n",
        "df = pd.read_csv('PEP1.csv')\n",
        "# df\n",
        "\n",
        "#  2.2) Print the names of the columns\n",
        "# print(df.columns)\n",
        "\n",
        "#  2.3)  Print the shape of the dataframe\n",
        "# print(df.shape)\n",
        "\n",
        "#  2.4) Check for null values\n",
        "# print(df.isnull().sum())\n",
        "\n",
        "#  2.5) Print the unique values\n",
        "print(df.apply(pd.Series.nunique))\n",
        "#  for column in df.columns:\n",
        "#     unique_values = df[column].unique()\n",
        "#     print(f\"Unique values in {column} column: {unique_values}\")\n",
        "\n",
        "#  2.6) Select the numerical and categorical variables\n",
        "# numerical variables\n",
        "numerical_vars = df.select_dtypes(include=['int64', 'float64'])\n",
        "\n",
        "# categorical variables\n",
        "categorical_vars = df.select_dtypes(include=['object'])\n",
        "\n",
        "print(\"Numerical Variables:\")\n",
        "print(numerical_vars.head())\n",
        "\n",
        "print(\"\\nCategorical Variables:\")\n",
        "print(categorical_vars.head())"
      ]
    }
  ]
}